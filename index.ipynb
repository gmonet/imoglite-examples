{
 "cells": [
  {
   "cell_type": "markdown",
   "metadata": {},
   "source": [
    "## Available tuto\n",
    "- blender\n",
    "- diffractometer\n",
    "- simulation\n",
    "    - neutron\n",
    "    - structure\n",
    "        - [minimizStructNTI.py](/tuto/simulation/structure/minimizStructNTI.ipynb)\n",
    "    - xrd\n",
    "        - debye_gpu\n",
    "            - [Debye_GPU.py](/tuto/simulation/xrd/debye_gpu/Debye_GPU.ipynb)\n",
    "        - [drx3d.py](/tuto/simulation/xrd/drx3d.ipynb)"
   ]
  },
  {
   "cell_type": "code",
   "execution_count": null,
   "metadata": {},
   "outputs": [],
   "source": []
  }
 ],
 "metadata": {
  "kernelspec": {
   "display_name": "Python 3",
   "language": "python",
   "name": "python3"
  },
  "language_info": {
   "codemirror_mode": {
    "name": "ipython",
    "version": 3
   },
   "file_extension": ".py",
   "mimetype": "text/x-python",
   "name": "python",
   "nbconvert_exporter": "python",
   "pygments_lexer": "ipython3",
   "version": "3.7.3"
  }
 },
 "nbformat": 4,
 "nbformat_minor": 2
}
